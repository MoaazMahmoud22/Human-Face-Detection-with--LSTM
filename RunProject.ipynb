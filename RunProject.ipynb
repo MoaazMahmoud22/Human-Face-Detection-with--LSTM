{
 "cells": [
  {
   "cell_type": "code",
   "execution_count": 1,
   "metadata": {},
   "outputs": [
    {
     "name": "stderr",
     "output_type": "stream",
     "text": [
      "WARNING:absl:Compiled the loaded model, but the compiled metrics have yet to be built. `model.compile_metrics` will be empty until you train or evaluate the model.\n"
     ]
    }
   ],
   "source": [
    "from tensorflow.keras.models import load_model\n",
    "model = load_model('fake_news_lstm_model.h5')"
   ]
  },
  {
   "cell_type": "code",
   "execution_count": 2,
   "metadata": {},
   "outputs": [],
   "source": [
    "import pickle\n",
    "with open('tokenizer.pkl', 'rb') as handle:\n",
    "    tokenizer = pickle.load(handle)"
   ]
  },
  {
   "cell_type": "code",
   "execution_count": 3,
   "metadata": {},
   "outputs": [
    {
     "name": "stdout",
     "output_type": "stream",
     "text": [
      "\u001b[1m1/1\u001b[0m \u001b[32m━━━━━━━━━━━━━━━━━━━━\u001b[0m\u001b[37m\u001b[0m \u001b[1m0s\u001b[0m 286ms/step\n",
      "[[0]]\n"
     ]
    }
   ],
   "source": [
    "from tensorflow.keras.preprocessing.sequence import pad_sequences\n",
    "max_sequence_length = 200  # Replace with the value used during training\n",
    "# Example new texts to classify\n",
    "new_texts = [\"\"\"A group of a dozen politically engaged pastors gathered for a private dinner on Friday night to hear a unique story in presidential politics: Louisiana Governor Bobby Jindal’s journey from Hinduism to Protestant Christianity and, ultimately, his embrace of what he calls “evangelical Catholicism.” Over two hours, the 42-year-old governor shared his spiritual transformation. He recounted speaking with a high school classmate who sought to “save his soul,” secretly reading the Bible in his closet to avoid his parents’ scrutiny, and feeling deeply moved by a movie depicting Jesus on the cross during his senior year.\n",
    "\n",
    "“I was struck, and struck hard,” Jindal told the pastors. “This was the Son of God, and He had died for our sins.” The dinner was part of Jindal’s strategic outreach to pastors in key presidential battleground states like Iowa and South Carolina. His goal was to establish a political base among religious leaders that could elevate his standing among Republican contenders for the 2016 presidential election. Despite being known in GOP circles for his expertise on policy matters such as health care, Jindal, a Rhodes Scholar and Brown University graduate, lacked an established network of activist supporters outside Louisiana.\n",
    "\n",
    "To address this, Jindal has leaned into his religious experiences, appealing to the GOP’s influential bloc of religious conservatives, many of whom have yet to settle on a favorite candidate for the presidential race. While other potential contenders, including Senators Rand Paul (Ky.) and Ted Cruz (Tex.) and Indiana Governor Mike Pence, are courting the evangelical base, Jindal seemed to make significant inroads over the weekend during his visit to Lynchburg, Virginia. Known as a hub for evangelicals and home to Liberty University, founded by the late Rev. Jerry Falwell, Lynchburg provided a platform for Jindal to connect with this core constituency.\n",
    "\n",
    "In addition to the private dinner, Jindal delivered a rousing commencement address to an audience of 40,000 Christian conservatives at Liberty University. In his speech, he emphasized his faith and criticized President Obama’s perceived attacks on religious freedom. The pastors who attended the dinner said Jindal’s personal stories left a lasting impression. “He has the convictions, and he knows how to communicate them,” said Brad Sherman of Solid Rock Christian Church in Coralville, Iowa, who had previously supported Mike Huckabee’s 2008 campaign. Another pastor, C. Mitchell Brooks of Second Baptist Church in Belton, South Carolina, said Jindal’s faith journey and values placed him “on a par” with Huckabee, who is both a Baptist preacher and a politician.\n",
    "\n",
    "The pastors were invited to Lynchburg by the American Renewal Project, a nonprofit group that mobilizes evangelical Christians through voter guides, grassroots training, and get-out-the-vote initiatives. The organization’s founder, David Lane, has established a network of pastors in politically pivotal states like Iowa, Missouri, Ohio, and South Carolina. Lane has also arranged trips to Israel for politicians like Rand Paul to strengthen ties with evangelical leaders. This group of pastors, including Donald Wildmon, founder of the American Family Association, had limited prior interaction with Jindal. However, their interest in him grew after he publicly supported Phil Robertson of “Duck Dynasty” fame during a controversy over remarks Robertson made about homosexuality.\n",
    "\n",
    "During his visit to Lynchburg, Jindal positioned himself as a staunch advocate for cultural and religious values. In his commencement address, he expressed support for Jason and David Benham, twin brothers and Liberty graduates whose HGTV show, “Flip It Forward,” was canceled following revelations about their opposition to same-sex marriage. Jindal called the cancellation an example of “intolerance from the entertainment industry.” He added, “If these guys had protested at the Republican Party convention, instead of canceling their show, HGTV would probably have given them a raise.”\n",
    "\n",
    "Jindal also criticized the Obama administration over the legal challenges faced by Hobby Lobby, a Christian-owned craft store chain that opposed providing insurance coverage for certain contraceptives under the Affordable Care Act. Highlighting the family’s commitment to Christian values, Jindal noted their generosity as employers, including paying above minimum wage and raising salaries despite the economic recession. “None of this matters to the Obama administration,” Jindal told the audience.\n",
    "\n",
    "For many pastors, Jindal’s personal story was the highlight of the weekend. Born Piyush Jindal in 1971, four months after his parents emigrated from India to Baton Rouge, Louisiana, Jindal adopted the name “Bobby” as a child, inspired by a character from the TV show The Brady Bunch. He explained to the pastors that his conversion to Christianity wasn’t a single moment of revelation but a gradual process. He recounted receiving a Bible as a Christmas gift from a childhood friend and initially dismissing it as an odd choice since “everyone knows you can get one for free in any hotel.” The gold lettering on the cover, however, made him reconsider.\n",
    "\n",
    "His faith deepened during high school, where a conversation with a girl he hoped to date led him to explore her beliefs. He began reading the Bible in secret to avoid upsetting his parents. Jindal described a transformative moment when, while watching a film about Christ’s crucifixion, the Bible and his existence suddenly seemed clearer.\n",
    "\n",
    "Although he briefly touched on his conversion to Catholicism during college, Jindal primarily focused on how his values align with those of other Christian conservatives. “I read the words of Jesus Christ, and I realized they were true,” Jindal told the graduates at Liberty. “I used to think I found God, but now I believe He found me.\"\"\"]\n",
    "\n",
    "# Convert texts to sequences using the tokenizer\n",
    "new_sequences = tokenizer.texts_to_sequences(new_texts)\n",
    "\n",
    "# Pad sequences to the same length as used during training\n",
    "new_padded_sequences = pad_sequences(new_sequences, maxlen=max_sequence_length, padding='post', truncating='post')\n",
    "\n",
    "# Make predictions using the trained model\n",
    "predictions = model.predict(new_padded_sequences)\n",
    "\n",
    "# Print predictions\n",
    "# Convert probabilities to binary predictions\n",
    "threshold = 0.5\n",
    "binary_predictions = (predictions > threshold).astype(int)\n",
    "\n",
    "# Print binary predictions\n",
    "print(binary_predictions)"
   ]
  },
  {
   "cell_type": "code",
   "execution_count": 4,
   "metadata": {},
   "outputs": [
    {
     "name": "stderr",
     "output_type": "stream",
     "text": [
      "WARNING:absl:Compiled the loaded model, but the compiled metrics have yet to be built. `model.compile_metrics` will be empty until you train or evaluate the model.\n"
     ]
    },
    {
     "name": "stdout",
     "output_type": "stream",
     "text": [
      " * Serving Flask app '__main__'\n",
      " * Debug mode: off\n"
     ]
    },
    {
     "name": "stderr",
     "output_type": "stream",
     "text": [
      "INFO:werkzeug:\u001b[31m\u001b[1mWARNING: This is a development server. Do not use it in a production deployment. Use a production WSGI server instead.\u001b[0m\n",
      " * Running on http://127.0.0.1:5000\n",
      "INFO:werkzeug:\u001b[33mPress CTRL+C to quit\u001b[0m\n",
      "INFO:werkzeug:127.0.0.1 - - [27/Jan/2025 15:10:55] \"GET / HTTP/1.1\" 200 -\n",
      "INFO:werkzeug:127.0.0.1 - - [27/Jan/2025 15:10:55] \"\u001b[33mGET /favicon.ico HTTP/1.1\u001b[0m\" 404 -\n"
     ]
    },
    {
     "name": "stdout",
     "output_type": "stream",
     "text": [
      "\u001b[1m1/1\u001b[0m \u001b[32m━━━━━━━━━━━━━━━━━━━━\u001b[0m\u001b[37m\u001b[0m \u001b[1m0s\u001b[0m 190ms/step\n"
     ]
    },
    {
     "name": "stderr",
     "output_type": "stream",
     "text": [
      "INFO:werkzeug:127.0.0.1 - - [27/Jan/2025 15:11:06] \"POST /predict HTTP/1.1\" 200 -\n"
     ]
    }
   ],
   "source": [
    "from flask import Flask, request, jsonify, render_template\n",
    "import tensorflow as tf\n",
    "from tensorflow.keras.preprocessing.sequence import pad_sequences\n",
    "import numpy as np\n",
    "import pickle\n",
    "\n",
    "# Load the model and tokenizer\n",
    "model = tf.keras.models.load_model('fake_news_lstm_model.h5')\n",
    "model.compile(optimizer='adam', loss='binary_crossentropy', metrics=['accuracy'])  # Recompile to suppress warning\n",
    "\n",
    "with open('tokenizer.pkl', 'rb') as handle:\n",
    "    tokenizer = pickle.load(handle)\n",
    "\n",
    "# Define the maximum sequence length (same as during training)\n",
    "max_sequence_length = 200\n",
    "\n",
    "# Initialize Flask app\n",
    "app = Flask(__name__)\n",
    "\n",
    "# Define the home route to serve the frontend\n",
    "@app.route('/')\n",
    "def home():\n",
    "    return render_template('index.html')\n",
    "\n",
    "# Define the prediction route\n",
    "@app.route('/predict', methods=['POST'])\n",
    "def predict():\n",
    "    # Get the input text from the request\n",
    "    data = request.json\n",
    "    text = data.get('text', '')\n",
    "\n",
    "    # Preprocess the input text\n",
    "    sequence = tokenizer.texts_to_sequences([text])\n",
    "    padded_sequence = pad_sequences(sequence, maxlen=max_sequence_length, padding='post', truncating='post')\n",
    "\n",
    "    # Make a prediction\n",
    "    prediction = model.predict(padded_sequence)\n",
    "    probability = float(prediction[0][0])  # Convert numpy float to Python float\n",
    "\n",
    "    # Return the prediction as JSON\n",
    "    return jsonify({\n",
    "        'text': text,\n",
    "        'probability': probability,\n",
    "        'prediction': 'Fake News' if probability > 0.5 else 'Real News'\n",
    "    })\n",
    "\n",
    "# Run the Flask app\n",
    "if __name__ == '__main__':\n",
    "    app.run(debug=False)  # Disable debug mode for production"
   ]
  }
 ],
 "metadata": {
  "kernelspec": {
   "display_name": "Python 3",
   "language": "python",
   "name": "python3"
  },
  "language_info": {
   "codemirror_mode": {
    "name": "ipython",
    "version": 3
   },
   "file_extension": ".py",
   "mimetype": "text/x-python",
   "name": "python",
   "nbconvert_exporter": "python",
   "pygments_lexer": "ipython3",
   "version": "3.9.13"
  }
 },
 "nbformat": 4,
 "nbformat_minor": 2
}
